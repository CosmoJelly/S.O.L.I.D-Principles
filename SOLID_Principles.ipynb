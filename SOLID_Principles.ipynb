{
 "cells": [
  {
   "cell_type": "markdown",
   "metadata": {},
   "source": [
    "# What are S.O.L.I.D Principles?\n",
    "SOLID Principles explained simply and using examples.\n",
    "### S = Single Responsibility Principle (SRP): \n",
    "A class should have one, and only one, reason to change. This means that a class should have only one job.\n",
    "### O = Open/Closed Principle (OCP):\n",
    "Objects or entities should be open for extension but closed for modification. This means that a class should be easily extendable without modifying the class itself.\n",
    "### L = Liskov Substitution Principle (LSP):\n",
    "Every subclass or derived class should be substitutable for their base or parent class. This means that a class should be replaceable with instances of its subtypes without altering the correctness of that program.\n",
    "### I = Interface Segregation Principle (ISP):\n",
    "A client should never be forced to implement an interface that it doesn’t use or clients shouldn’t be forced to depend on methods they do not use. This means that a class should not implement an interface if it doesn’t use the methods.\n",
    "### D = Dependency Inversion Principle (DIP):\n",
    "Entities must depend on abstractions, not on concretions. It states that the high-level module must not depend on the low-level module, but they should depend on abstractions."
   ]
  },
  {
   "cell_type": "markdown",
   "metadata": {},
   "source": [
    "<-------------------------------------------------------------------------------------------------------------------------------------------------------------------------------->"
   ]
  },
  {
   "cell_type": "markdown",
   "metadata": {},
   "source": [
    "## SRP Example:"
   ]
  },
  {
   "cell_type": "code",
   "execution_count": 1,
   "metadata": {},
   "outputs": [
    {
     "name": "stdout",
     "output_type": "stream",
     "text": [
      "Title: Monthly Report\n",
      "Content: Report Content\n"
     ]
    }
   ],
   "source": [
    "class Report:\n",
    "    def __init__(self, title, content):\n",
    "        self.title = title\n",
    "        self.content = content\n",
    "\n",
    "    def format_report(self):\n",
    "        return f\"Title: {self.title}\\nContent: {self.content}\"\n",
    "\n",
    "class ReportPrinter:\n",
    "    def print_report(self, report):\n",
    "        print(report.format_report())\n",
    "\n",
    "report = Report(\"Monthly Report\", \"Report Content\")\n",
    "printer = ReportPrinter()\n",
    "printer.print_report(report)"
   ]
  },
  {
   "cell_type": "markdown",
   "metadata": {},
   "source": [
    "## Explanation:"
   ]
  },
  {
   "cell_type": "markdown",
   "metadata": {},
   "source": [
    "The Report class only has one responsibility of creating the report.\n",
    "\n",
    "The ReportPrinter class only has one responsibility of printing the report.\n",
    "\n",
    "If we want to change the way the report is printed, we don't have to change the Report class. If we want to change the way the report is created, we don't have to change the ReportPrinter class."
   ]
  },
  {
   "cell_type": "markdown",
   "metadata": {},
   "source": [
    "<-------------------------------------------------------------------------------------------------------------------------------------------------------------------------------->"
   ]
  },
  {
   "cell_type": "markdown",
   "metadata": {},
   "source": [
    "## OCP Example:"
   ]
  },
  {
   "cell_type": "code",
   "execution_count": 2,
   "metadata": {},
   "outputs": [
    {
     "name": "stdout",
     "output_type": "stream",
     "text": [
      "Area: 78.5\n",
      "Area: 24\n"
     ]
    }
   ],
   "source": [
    "from abc import ABC, abstractmethod\n",
    "\n",
    "class Shape(ABC):\n",
    "    @abstractmethod\n",
    "    def area(self):\n",
    "        pass\n",
    "\n",
    "class Circle(Shape):\n",
    "    def __init__(self, radius):\n",
    "        self.radius = radius\n",
    "\n",
    "    def area(self):\n",
    "        return 3.14 * self.radius * self.radius\n",
    "\n",
    "class Rectangle(Shape):\n",
    "    def __init__(self, width, height):\n",
    "        self.width = width\n",
    "        self.height = height\n",
    "\n",
    "    def area(self):\n",
    "        return self.width * self.height\n",
    "\n",
    "shapes = [Circle(5), Rectangle(4, 6)]\n",
    "for shape in shapes:\n",
    "    print(f\"Area: {shape.area()}\")"
   ]
  },
  {
   "cell_type": "markdown",
   "metadata": {},
   "source": [
    "## Explanation:"
   ]
  },
  {
   "cell_type": "markdown",
   "metadata": {},
   "source": [
    "The Shape class acts as a foundation for other classes to inherit from. Meaning we can add more shapes quite easily without changing the Shape class itself."
   ]
  },
  {
   "cell_type": "markdown",
   "metadata": {},
   "source": [
    "<-------------------------------------------------------------------------------------------------------------------------------------------------------------------------------->"
   ]
  },
  {
   "cell_type": "markdown",
   "metadata": {},
   "source": [
    "## LSP Example:"
   ]
  },
  {
   "cell_type": "code",
   "execution_count": 3,
   "metadata": {},
   "outputs": [
    {
     "name": "stdout",
     "output_type": "stream",
     "text": [
      "Flying\n",
      "Flying\n"
     ]
    }
   ],
   "source": [
    "class Bird:\n",
    "    def fly(self):\n",
    "        print(\"Flying\")\n",
    "\n",
    "class Sparrow(Bird):\n",
    "    pass\n",
    "    \n",
    "class Pidgeon(Bird):\n",
    "    pass\n",
    "\n",
    "class Ostrich(Bird):\n",
    "    def fly(self):\n",
    "        raise NotImplementedError(\"Ostriches can't fly\")\n",
    "\n",
    "def make_bird_fly(bird: Bird):\n",
    "    bird.fly()\n",
    "\n",
    "sparrow = Sparrow()\n",
    "pidgeon = Pidgeon()\n",
    "ostrich = Ostrich()\n",
    "\n",
    "make_bird_fly(sparrow)\n",
    "make_bird_fly(pidgeon)\n",
    "# make_bird_fly(ostrich)"
   ]
  },
  {
   "cell_type": "markdown",
   "metadata": {},
   "source": [
    "## Explanation:"
   ]
  },
  {
   "cell_type": "markdown",
   "metadata": {},
   "source": [
    "Using either Sparrow or Pidgeon class, we can substitute the Bird class without altering the correctness of the program since they both use it as a base class.\n",
    "\n",
    "The only reason Ostich class does not work here is since it has a fundamental difference of not being able to fly."
   ]
  },
  {
   "cell_type": "markdown",
   "metadata": {},
   "source": [
    "<-------------------------------------------------------------------------------------------------------------------------------------------------------------------------------->"
   ]
  },
  {
   "cell_type": "markdown",
   "metadata": {},
   "source": [
    "## ISP Example:"
   ]
  },
  {
   "cell_type": "code",
   "execution_count": 4,
   "metadata": {},
   "outputs": [
    {
     "name": "stdout",
     "output_type": "stream",
     "text": [
      "Printing: My Document\n",
      "Printing: My Document\n",
      "Scanning: My Document\n"
     ]
    }
   ],
   "source": [
    "from abc import ABC, abstractmethod\n",
    "\n",
    "class Printer(ABC):\n",
    "    @abstractmethod\n",
    "    def print(self, document):\n",
    "        pass\n",
    "\n",
    "class Scanner(ABC):\n",
    "    @abstractmethod\n",
    "    def scan(self, document):\n",
    "        pass\n",
    "\n",
    "class MultiFunctionPrinter(Printer, Scanner):\n",
    "    def print(self, document):\n",
    "        print(f\"Printing: {document}\")\n",
    "\n",
    "    def scan(self, document):\n",
    "        print(f\"Scanning: {document}\")\n",
    "\n",
    "class SimplePrinter(Printer):\n",
    "    def print(self, document):\n",
    "        print(f\"Printing: {document}\")\n",
    "\n",
    "doc = \"My Document\"\n",
    "printer = SimplePrinter()\n",
    "printer.print(doc)\n",
    "\n",
    "mfp = MultiFunctionPrinter()\n",
    "mfp.print(doc)\n",
    "mfp.scan(doc)"
   ]
  },
  {
   "cell_type": "markdown",
   "metadata": {},
   "source": [
    "## Explanation:"
   ]
  },
  {
   "cell_type": "markdown",
   "metadata": {},
   "source": [
    "The SimplePrinter class only implements print() from the Printer class while the MultiFunctionPrinter class implements both the print() and scan() methods from their respective classees.\n",
    "\n",
    "This way if we only want to use the Printer then we can use simple printer without being forced to interact with the scanner."
   ]
  },
  {
   "cell_type": "markdown",
   "metadata": {},
   "source": [
    "<-------------------------------------------------------------------------------------------------------------------------------------------------------------------------------->"
   ]
  },
  {
   "cell_type": "markdown",
   "metadata": {},
   "source": [
    "## DIP Example:"
   ]
  },
  {
   "cell_type": "code",
   "execution_count": 5,
   "metadata": {},
   "outputs": [
    {
     "name": "stdout",
     "output_type": "stream",
     "text": [
      "Sending email: This is an email message.\n",
      "Sending SMS: This is an SMS message.\n"
     ]
    }
   ],
   "source": [
    "from abc import ABC, abstractmethod\n",
    "\n",
    "class MessageService(ABC):\n",
    "    @abstractmethod\n",
    "    def send_message(self, message: str):\n",
    "        pass\n",
    "\n",
    "class EmailService(MessageService):\n",
    "    def send_message(self, message: str):\n",
    "        print(f\"Sending email: {message}\")\n",
    "\n",
    "class SMSService(MessageService):\n",
    "    def send_message(self, message: str):\n",
    "        print(f\"Sending SMS: {message}\")\n",
    "\n",
    "class Notification:\n",
    "    def __init__(self, service: MessageService):\n",
    "        self.service = service\n",
    "\n",
    "    def notify(self, message: str):\n",
    "        self.service.send_message(message)\n",
    "\n",
    "email_service = EmailService()\n",
    "sms_service = SMSService()\n",
    "\n",
    "notification = Notification(email_service)\n",
    "notification.notify(\"This is an email message.\")\n",
    "\n",
    "notification = Notification(sms_service)\n",
    "notification.notify(\"This is an SMS message.\")"
   ]
  },
  {
   "cell_type": "markdown",
   "metadata": {},
   "source": [
    "## Explanation:"
   ]
  },
  {
   "cell_type": "markdown",
   "metadata": {},
   "source": [
    "The MessageService class is the base class that is used by the EmailService, SMSService, and Notification classes.\n",
    "\n",
    "This way we have created a high-level module with Notification class that does not depend on the low-level module of EmailService or SMSService."
   ]
  },
  {
   "cell_type": "markdown",
   "metadata": {},
   "source": [
    "<-------------------------------------------------------------------------------------------------------------------------------------------------------------------------------->"
   ]
  }
 ],
 "metadata": {
  "kernelspec": {
   "display_name": "Python 3",
   "language": "python",
   "name": "python3"
  },
  "language_info": {
   "codemirror_mode": {
    "name": "ipython",
    "version": 3
   },
   "file_extension": ".py",
   "mimetype": "text/x-python",
   "name": "python",
   "nbconvert_exporter": "python",
   "pygments_lexer": "ipython3",
   "version": "3.12.4"
  }
 },
 "nbformat": 4,
 "nbformat_minor": 2
}
